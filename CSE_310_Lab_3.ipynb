{
  "nbformat": 4,
  "nbformat_minor": 0,
  "metadata": {
    "colab": {
      "name": "CSE_310_Lab_3.ipynb",
      "provenance": [],
      "collapsed_sections": [],
      "authorship_tag": "ABX9TyMNkMT3VTO5YGDOezxLd3FG",
      "include_colab_link": true
    },
    "kernelspec": {
      "name": "python3",
      "display_name": "Python 3"
    }
  },
  "cells": [
    {
      "cell_type": "markdown",
      "metadata": {
        "id": "view-in-github",
        "colab_type": "text"
      },
      "source": [
        "<a href=\"https://colab.research.google.com/github/PiasTanmoy/CSE_310_B2_Spring_2020/blob/master/CSE_310_Lab_3.ipynb\" target=\"_parent\"><img src=\"https://colab.research.google.com/assets/colab-badge.svg\" alt=\"Open In Colab\"/></a>"
      ]
    },
    {
      "cell_type": "markdown",
      "metadata": {
        "id": "i2e5nnIsOdFg",
        "colab_type": "text"
      },
      "source": [
        "# Even series sum\n",
        "\n",
        "\n",
        "```\n",
        "2 + 4 + 6 + ... + 20 = 110\n",
        "```\n",
        "\n"
      ]
    },
    {
      "cell_type": "code",
      "metadata": {
        "id": "7F8sidd4MUez",
        "colab_type": "code",
        "colab": {
          "base_uri": "https://localhost:8080/",
          "height": 35
        },
        "outputId": "43f97e42-cecb-4358-a786-9c6294c1bc86"
      },
      "source": [
        "i = 2\n",
        "sum = 0\n",
        "while i<21:\n",
        "  sum = sum + i\n",
        "  i += 2\n",
        "print(sum)\n"
      ],
      "execution_count": 2,
      "outputs": [
        {
          "output_type": "stream",
          "text": [
            "110\n"
          ],
          "name": "stdout"
        }
      ]
    },
    {
      "cell_type": "code",
      "metadata": {
        "id": "iPIYXC-_QO2T",
        "colab_type": "code",
        "colab": {
          "base_uri": "https://localhost:8080/",
          "height": 35
        },
        "outputId": "5516ecf6-89ee-412a-9b3b-f509288681e3"
      },
      "source": [
        "i = 2\n",
        "sum = 0\n",
        "while i<21:\n",
        "\n",
        "  if i == 20:\n",
        "    print(i, end=\"\")\n",
        "  else:\n",
        "    print(i, \"+\", end=\" \")\n",
        "\n",
        "  sum = sum + i\n",
        "  i += 2\n",
        "\n",
        "print(\" = \", sum)"
      ],
      "execution_count": 10,
      "outputs": [
        {
          "output_type": "stream",
          "text": [
            "2 + 4 + 6 + 8 + 10 + 12 + 14 + 16 + 18 + 20 =  110\n"
          ],
          "name": "stdout"
        }
      ]
    },
    {
      "cell_type": "markdown",
      "metadata": {
        "id": "KYE67QcvPbat",
        "colab_type": "text"
      },
      "source": [
        "\n",
        "\n",
        "```\n",
        "input:\n",
        "start: 2\n",
        "Finish: 20\n",
        "2 + 4 + 6 + ... + 20 = 110\n",
        "```\n",
        "\n"
      ]
    },
    {
      "cell_type": "code",
      "metadata": {
        "id": "a68WGwv1PVsd",
        "colab_type": "code",
        "colab": {
          "base_uri": "https://localhost:8080/",
          "height": 72
        },
        "outputId": "0e6b1429-07bc-4d7b-bba5-1aa5e89e49a8"
      },
      "source": [
        "# what is the problem in this code??\n",
        "\n",
        "start = int(input())\n",
        "finish = int(input())\n",
        "\n",
        "i = start\n",
        "sum = 0\n",
        "\n",
        "while i<finish+1:\n",
        "  sum = sum + i\n",
        "  i += 2\n",
        "\n",
        "print(sum)\n"
      ],
      "execution_count": 3,
      "outputs": [
        {
          "output_type": "stream",
          "text": [
            "2\n",
            "20\n",
            "110\n"
          ],
          "name": "stdout"
        }
      ]
    },
    {
      "cell_type": "code",
      "metadata": {
        "id": "sCQjeAGtP852",
        "colab_type": "code",
        "colab": {
          "base_uri": "https://localhost:8080/",
          "height": 72
        },
        "outputId": "dc10945e-d50b-4421-8478-1f9979efc3c6"
      },
      "source": [
        "start = int(input())\n",
        "finish = int(input())\n",
        "\n",
        "if start%2 == 1:\n",
        "  start = start + 1\n",
        "\n",
        "if finish%2 == 1:\n",
        "  finish -= 1\n",
        "\n",
        "i = start\n",
        "sum = 0\n",
        "\n",
        "while i<finish+1:\n",
        "  if i == finish:\n",
        "    print(i, end=\"\")\n",
        "  else:\n",
        "    print(i, \"+\", end=\" \")\n",
        "  sum = sum + i\n",
        "  i += 2\n",
        "\n",
        "print(\" = \", sum)\n"
      ],
      "execution_count": 22,
      "outputs": [
        {
          "output_type": "stream",
          "text": [
            "1\n",
            "51\n",
            "2 + 4 + 6 + 8 + 10 + 12 + 14 + 16 + 18 + 20 + 22 + 24 + 26 + 28 + 30 + 32 + 34 + 36 + 38 + 40 + 42 + 44 + 46 + 48 + 50 =  650\n"
          ],
          "name": "stdout"
        }
      ]
    },
    {
      "cell_type": "code",
      "metadata": {
        "id": "cYAIjqRzSm4r",
        "colab_type": "code",
        "colab": {
          "base_uri": "https://localhost:8080/",
          "height": 35
        },
        "outputId": "acd15a11-2bb9-46af-924b-24501c77df63"
      },
      "source": [
        "# 2 + 4 +. ... 50 =?\n",
        "sum = 0\n",
        "for i in range(2, 51, 2):\n",
        "  sum = sum + i\n",
        "print(sum)"
      ],
      "execution_count": 24,
      "outputs": [
        {
          "output_type": "stream",
          "text": [
            "650\n"
          ],
          "name": "stdout"
        }
      ]
    },
    {
      "cell_type": "code",
      "metadata": {
        "id": "7a5NowCAUWIA",
        "colab_type": "code",
        "colab": {
          "base_uri": "https://localhost:8080/",
          "height": 35
        },
        "outputId": "c89184d4-c705-4569-f141-9e6bbea11b2b"
      },
      "source": [
        "# 2 + 4 +. ... 50 =?\n",
        "sum = 0\n",
        "for i in range(2, 51, 2):\n",
        "  if i == 50:\n",
        "    print(i, end=\"\")\n",
        "  else:\n",
        "    print(i, end=\" + \")\n",
        "  sum = sum + i\n",
        "print(\"=\", sum)"
      ],
      "execution_count": 27,
      "outputs": [
        {
          "output_type": "stream",
          "text": [
            "2 + 4 + 6 + 8 + 10 + 12 + 14 + 16 + 18 + 20 + 22 + 24 + 26 + 28 + 30 + 32 + 34 + 36 + 38 + 40 + 42 + 44 + 46 + 48 + 50= 650\n"
          ],
          "name": "stdout"
        }
      ]
    },
    {
      "cell_type": "code",
      "metadata": {
        "id": "DKoH8o7KU6sB",
        "colab_type": "code",
        "colab": {}
      },
      "source": [
        "s1 = {\n",
        "    \"name\" : \"Anisul\",\n",
        "    \"ID\" : 18101079,\n",
        "    \"email\" : \"18101079@uap-bd.edu\"\n",
        "}\n",
        "\n",
        "s2 = {\n",
        "    \"name\" : \"Nazia\",\n",
        "    \"ID\" : 18101086,\n",
        "    \"email\" : \"18101086@uap-bd.edu\"\n",
        "}\n",
        "\n",
        "s3 = {\n",
        "    \"name\" : \"Alma\",\n",
        "    \"ID\" : 18101088,\n",
        "    \"email\" : \"18101086@uap-bd.edu\"\n",
        "}\n",
        "\n"
      ],
      "execution_count": 29,
      "outputs": []
    },
    {
      "cell_type": "code",
      "metadata": {
        "id": "2oERPo38VjRs",
        "colab_type": "code",
        "colab": {}
      },
      "source": [
        "l = [s1, s2, s3]"
      ],
      "execution_count": 30,
      "outputs": []
    },
    {
      "cell_type": "code",
      "metadata": {
        "id": "He3lVTT0Vnys",
        "colab_type": "code",
        "colab": {
          "base_uri": "https://localhost:8080/",
          "height": 35
        },
        "outputId": "29e5bb36-ca4b-4bca-bb13-dca49515f2a6"
      },
      "source": [
        "l[0]"
      ],
      "execution_count": 31,
      "outputs": [
        {
          "output_type": "execute_result",
          "data": {
            "text/plain": [
              "{'ID': 18101079, 'email': '18101079@uap-bd.edu', 'name': 'Anisul'}"
            ]
          },
          "metadata": {
            "tags": []
          },
          "execution_count": 31
        }
      ]
    },
    {
      "cell_type": "code",
      "metadata": {
        "id": "lijdkMJ7V-qk",
        "colab_type": "code",
        "colab": {}
      },
      "source": [
        "st = {\n",
        "    \"s1\" : s1,\n",
        "    \"s2\" : s2,\n",
        "    \"s3\" : s3\n",
        "}"
      ],
      "execution_count": 32,
      "outputs": []
    },
    {
      "cell_type": "code",
      "metadata": {
        "id": "CiaMeVh4Ws8U",
        "colab_type": "code",
        "colab": {}
      },
      "source": [
        "st1 = {\n",
        "    18101079 : s1,\n",
        "    18101086 : s2,\n",
        "    18101088 : s3\n",
        "}"
      ],
      "execution_count": 38,
      "outputs": []
    },
    {
      "cell_type": "code",
      "metadata": {
        "id": "u13YLeqqXaV0",
        "colab_type": "code",
        "colab": {}
      },
      "source": [
        "st2 = {\n",
        "    s1[\"ID\"] : s1,\n",
        "    s2[\"ID\"] : s2,\n",
        "    s3[\"ID\"] : s3\n",
        "}\n",
        "#Thanks to Anisul"
      ],
      "execution_count": 39,
      "outputs": []
    },
    {
      "cell_type": "code",
      "metadata": {
        "id": "rV0HivV9XGs6",
        "colab_type": "code",
        "colab": {
          "base_uri": "https://localhost:8080/",
          "height": 35
        },
        "outputId": "a0219a9f-c86c-46bb-afaa-09f981f8b0c4"
      },
      "source": [
        "st1[18101079]"
      ],
      "execution_count": 40,
      "outputs": [
        {
          "output_type": "execute_result",
          "data": {
            "text/plain": [
              "{'ID': 18101079, 'email': '18101079@uap-bd.edu', 'name': 'Anisul'}"
            ]
          },
          "metadata": {
            "tags": []
          },
          "execution_count": 40
        }
      ]
    },
    {
      "cell_type": "code",
      "metadata": {
        "id": "wPRX5-VOXOPS",
        "colab_type": "code",
        "colab": {
          "base_uri": "https://localhost:8080/",
          "height": 35
        },
        "outputId": "7d3df53a-afa0-46c8-f0da-a61fbc60a26a"
      },
      "source": [
        "st2[18101079]"
      ],
      "execution_count": 41,
      "outputs": [
        {
          "output_type": "execute_result",
          "data": {
            "text/plain": [
              "{'ID': 18101079, 'email': '18101079@uap-bd.edu', 'name': 'Anisul'}"
            ]
          },
          "metadata": {
            "tags": []
          },
          "execution_count": 41
        }
      ]
    }
  ]
}